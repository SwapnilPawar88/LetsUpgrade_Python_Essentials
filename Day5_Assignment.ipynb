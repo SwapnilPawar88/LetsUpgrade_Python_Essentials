{
 "cells": [
  {
   "cell_type": "markdown",
   "metadata": {},
   "source": [
    "# Name - Swapnil Pawar\n",
    "# Email - Swapnilspawar330@gmail.com"
   ]
  },
  {
   "cell_type": "code",
   "execution_count": 6,
   "metadata": {},
   "outputs": [
    {
     "name": "stdout",
     "output_type": "stream",
     "text": [
      "[1, 2, 10, 4, 1, 56, 2, 1, 3, 56, 4, 0, 0, 0, 0, 0]\n"
     ]
    }
   ],
   "source": [
    "#Assignment 1 \n",
    "list1 = [0,1,2,10,4,1,0,56,2,0,1,3,0,56,0,4]\n",
    "k = 0                 #counter for non-zero elements\n",
    "for no in list1:\n",
    "    if no:            #if no is non-zero element enter in if\n",
    "        list1[k]= no\n",
    "        k = k+1  \n",
    "# k in now 11\n",
    "for zero in range(k,len(list1)): # now make remaining indexes as Zero in list \n",
    "    list1[zero] = 0\n",
    "\n",
    "print(list1)"
   ]
  },
  {
   "cell_type": "code",
   "execution_count": 10,
   "metadata": {},
   "outputs": [
    {
     "name": "stdout",
     "output_type": "stream",
     "text": [
      "[5, 10, 15, 20, 25, 35, 40, 45, 60, 60, 70, 80]\n"
     ]
    }
   ],
   "source": [
    "#Assignment 2\n",
    "list1 = [10,20,40,60,70,80]\n",
    "list2 = [5,15,25,35,45,60] \n",
    "list3 = list1 + list2      #add both lists\n",
    "j = 0                   \n",
    "list_len = len(list3)\n",
    "while j < list_len - 1:    # loop is till going on end of lenght of list3\n",
    "    if list3[j] > list3[j + 1]: \n",
    "        tempV = list3[j]\n",
    "        list3[j] = list3[j + 1]\n",
    "        list3[j + 1] = tempV \n",
    "        j = -1             # j = -1 to increament in next step\n",
    "    j += 1                 # j = 0 here for while loop do not false  \n",
    "    \n",
    "print(list3)"
   ]
  },
  {
   "cell_type": "code",
   "execution_count": null,
   "metadata": {},
   "outputs": [],
   "source": []
  }
 ],
 "metadata": {
  "kernelspec": {
   "display_name": "Python 3",
   "language": "python",
   "name": "python3"
  },
  "language_info": {
   "codemirror_mode": {
    "name": "ipython",
    "version": 3
   },
   "file_extension": ".py",
   "mimetype": "text/x-python",
   "name": "python",
   "nbconvert_exporter": "python",
   "pygments_lexer": "ipython3",
   "version": "3.7.4"
  }
 },
 "nbformat": 4,
 "nbformat_minor": 2
}
