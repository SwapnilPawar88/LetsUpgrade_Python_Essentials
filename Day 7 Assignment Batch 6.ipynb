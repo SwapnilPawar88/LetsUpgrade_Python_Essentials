{
 "cells": [
  {
   "cell_type": "markdown",
   "metadata": {},
   "source": [
    "# Name - Swapnil Pawar\n",
    "# Email - Swapnilspawar330@gmail.com"
   ]
  },
  {
   "cell_type": "code",
   "execution_count": 3,
   "metadata": {},
   "outputs": [
    {
     "name": "stdout",
     "output_type": "stream",
     "text": [
      "{'FTP': 21, 'SSH': 22, 'telnet': 23, 'http': 80}\n"
     ]
    }
   ],
   "source": [
    "#assignment Day 7 \n",
    "\n",
    "port1 = {21:\"FTP\",22:\"SSH\",23:\"telnet\",80:\"http\"}\n",
    "port2 = {}\n",
    "for k,v in port1.items():\n",
    "    port2[v] = k\n",
    "print(port2)"
   ]
  },
  {
   "cell_type": "code",
   "execution_count": 23,
   "metadata": {},
   "outputs": [
    {
     "name": "stdout",
     "output_type": "stream",
     "text": [
      "[3, 7, 11]\n"
     ]
    }
   ],
   "source": [
    "#Q 2 \n",
    "list1 = [(1,2),(3,4),(5,6)]\n",
    "list2 = []\n",
    "for i in range(len(list1)):\n",
    "    no = list1[i][0] + list1[i][1]\n",
    "    list2.append(no) \n",
    "print(list2)"
   ]
  },
  {
   "cell_type": "code",
   "execution_count": null,
   "metadata": {},
   "outputs": [],
   "source": []
  }
 ],
 "metadata": {
  "kernelspec": {
   "display_name": "Python 3",
   "language": "python",
   "name": "python3"
  },
  "language_info": {
   "codemirror_mode": {
    "name": "ipython",
    "version": 3
   },
   "file_extension": ".py",
   "mimetype": "text/x-python",
   "name": "python",
   "nbconvert_exporter": "python",
   "pygments_lexer": "ipython3",
   "version": "3.7.4"
  }
 },
 "nbformat": 4,
 "nbformat_minor": 2
}
